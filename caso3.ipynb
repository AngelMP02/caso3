{
 "cells": [
  {
   "cell_type": "code",
   "execution_count": 15,
   "metadata": {},
   "outputs": [
    {
     "name": "stdout",
     "output_type": "stream",
     "text": [
      "Requirement already satisfied: pandas in c:\\users\\user\\appdata\\local\\packages\\pythonsoftwarefoundation.python.3.11_qbz5n2kfra8p0\\localcache\\local-packages\\python311\\site-packages (2.2.3)\n",
      "Requirement already satisfied: numpy>=1.23.2 in c:\\users\\user\\appdata\\local\\packages\\pythonsoftwarefoundation.python.3.11_qbz5n2kfra8p0\\localcache\\local-packages\\python311\\site-packages (from pandas) (2.1.3)\n",
      "Requirement already satisfied: python-dateutil>=2.8.2 in c:\\users\\user\\appdata\\local\\packages\\pythonsoftwarefoundation.python.3.11_qbz5n2kfra8p0\\localcache\\local-packages\\python311\\site-packages (from pandas) (2.9.0.post0)\n",
      "Requirement already satisfied: pytz>=2020.1 in c:\\users\\user\\appdata\\local\\packages\\pythonsoftwarefoundation.python.3.11_qbz5n2kfra8p0\\localcache\\local-packages\\python311\\site-packages (from pandas) (2024.2)\n",
      "Requirement already satisfied: tzdata>=2022.7 in c:\\users\\user\\appdata\\local\\packages\\pythonsoftwarefoundation.python.3.11_qbz5n2kfra8p0\\localcache\\local-packages\\python311\\site-packages (from pandas) (2024.2)\n",
      "Requirement already satisfied: six>=1.5 in c:\\users\\user\\appdata\\local\\packages\\pythonsoftwarefoundation.python.3.11_qbz5n2kfra8p0\\localcache\\local-packages\\python311\\site-packages (from python-dateutil>=2.8.2->pandas) (1.16.0)\n",
      "Note: you may need to restart the kernel to use updated packages.\n"
     ]
    },
    {
     "name": "stderr",
     "output_type": "stream",
     "text": [
      "\n",
      "[notice] A new release of pip is available: 24.0 -> 24.3.1\n",
      "[notice] To update, run: C:\\Users\\User\\AppData\\Local\\Microsoft\\WindowsApps\\PythonSoftwareFoundation.Python.3.11_qbz5n2kfra8p0\\python.exe -m pip install --upgrade pip\n"
     ]
    }
   ],
   "source": [
    "pip install pandas\n"
   ]
  },
  {
   "cell_type": "code",
   "execution_count": 16,
   "metadata": {},
   "outputs": [
    {
     "name": "stderr",
     "output_type": "stream",
     "text": [
      "[*********************100%***********************]  1 of 1 completed"
     ]
    },
    {
     "name": "stdout",
     "output_type": "stream",
     "text": [
      "Price                        Adj Close        Close         High          Low  \\\n",
      "Ticker                           ^IBEX        ^IBEX        ^IBEX        ^IBEX   \n",
      "Date                                                                            \n",
      "2012-01-03 00:00:00+00:00  8732.391602  8732.400391  8743.299805  8597.099609   \n",
      "2012-01-04 00:00:00+00:00  8581.791016  8581.799805  8701.299805  8526.799805   \n",
      "2012-01-05 00:00:00+00:00  8329.590820  8329.599609  8598.700195  8301.200195   \n",
      "2012-01-06 00:00:00+00:00  8289.090820  8289.099609  8445.900391  8233.799805   \n",
      "2012-01-09 00:00:00+00:00  8278.891602  8278.900391  8404.400391  8250.099609   \n",
      "\n",
      "Price                             Open     Volume  \n",
      "Ticker                           ^IBEX      ^IBEX  \n",
      "Date                                               \n",
      "2012-01-03 00:00:00+00:00  8739.200195  186689000  \n",
      "2012-01-04 00:00:00+00:00  8683.400391  243803000  \n",
      "2012-01-05 00:00:00+00:00  8598.700195  192704000  \n",
      "2012-01-06 00:00:00+00:00  8369.700195  153765000  \n",
      "2012-01-09 00:00:00+00:00  8314.500000  173948000  \n"
     ]
    },
    {
     "name": "stderr",
     "output_type": "stream",
     "text": [
      "\n"
     ]
    }
   ],
   "source": [
    "import yfinance as yf\n",
    "import datetime\n",
    "\n",
    "# Definir el ticker del IBEX 35\n",
    "ticker = \"^IBEX\"\n",
    "\n",
    "# Establecer la fecha de inicio\n",
    "start_date = \"2012-01-01\"\n",
    "\n",
    "# Obtener la fecha actual\n",
    "end_date = datetime.datetime.now().strftime(\"%Y-%m-%d\")\n",
    "\n",
    "# Descargar los datos históricos\n",
    "ibex_data = yf.download(ticker, start=start_date, end=end_date, interval=\"1d\")\n",
    "\n",
    "# Mostrar las primeras filas del DataFrame\n",
    "print(ibex_data.head())\n"
   ]
  },
  {
   "cell_type": "code",
   "execution_count": 55,
   "metadata": {},
   "outputs": [],
   "source": [
    "# Guardar el DataFrame en un archivo CSV\n",
    "ibex_data.to_csv(\"ibex_35_historico.csv\")\n",
    "data=pd.read_csv(\"ibex_35_no_covid.csv\")"
   ]
  },
  {
   "cell_type": "code",
   "execution_count": 60,
   "metadata": {},
   "outputs": [
    {
     "name": "stdout",
     "output_type": "stream",
     "text": [
      "3284\n",
      "2943\n"
     ]
    }
   ],
   "source": [
    "print(len(ibex_data))\n",
    "print(len(data))"
   ]
  },
  {
   "cell_type": "markdown",
   "metadata": {},
   "source": [
    "21.4% de los outliers covid DECIDIMOS QUITAR la epoca de covid"
   ]
  },
  {
   "cell_type": "code",
   "execution_count": null,
   "metadata": {},
   "outputs": [],
   "source": []
  }
 ],
 "metadata": {
  "kernelspec": {
   "display_name": "Python 3",
   "language": "python",
   "name": "python3"
  },
  "language_info": {
   "codemirror_mode": {
    "name": "ipython",
    "version": 3
   },
   "file_extension": ".py",
   "mimetype": "text/x-python",
   "name": "python",
   "nbconvert_exporter": "python",
   "pygments_lexer": "ipython3",
   "version": "3.11.9"
  }
 },
 "nbformat": 4,
 "nbformat_minor": 2
}
